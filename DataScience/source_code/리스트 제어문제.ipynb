{
 "cells": [
  {
   "cell_type": "code",
   "execution_count": null,
   "metadata": {},
   "outputs": [],
   "source": [
    "## 예제2\n",
    "# 1. 리스트에 hera@naver.com\n",
    "\n",
    "# 2. 입력을 2개를 받아서,\n",
    "#    gardenpro@daum.net\n",
    "#    korea@korea.co.kr\n",
    "\n",
    "# 3. com => 닷컴회사이시군요\n",
    "#    net => 닷넷 회사이군요\n",
    "#    kr => 한국에 있는 회사군요\n",
    "#    아니라면 => 잘 모르겠어요."
   ]
  },
  {
   "cell_type": "code",
   "execution_count": 1,
   "metadata": {},
   "outputs": [],
   "source": [
    "email = [\"hera@naver.com\"]"
   ]
  },
  {
   "cell_type": "code",
   "execution_count": 2,
   "metadata": {},
   "outputs": [],
   "source": [
    "email2 = []   #비어있는 리스트 먼저 만들어 두어야 한다/."
   ]
  },
  {
   "cell_type": "code",
   "execution_count": 3,
   "metadata": {},
   "outputs": [
    {
     "name": "stdout",
     "output_type": "stream",
     "text": [
      "이메일 입력 1 >> gardenpro@daum.net\n"
     ]
    }
   ],
   "source": [
    "data1 = input(\"이메일 입력 1 >> \")"
   ]
  },
  {
   "cell_type": "code",
   "execution_count": 4,
   "metadata": {},
   "outputs": [
    {
     "name": "stdout",
     "output_type": "stream",
     "text": [
      "이메일 입력 2 >> korea@korea.co.kr\n"
     ]
    }
   ],
   "source": [
    "data2 = input(\"이메일 입력 2 >> \")"
   ]
  },
  {
   "cell_type": "code",
   "execution_count": 5,
   "metadata": {},
   "outputs": [],
   "source": [
    "email.append(data1)"
   ]
  },
  {
   "cell_type": "code",
   "execution_count": 6,
   "metadata": {},
   "outputs": [],
   "source": [
    "email.append(data2)"
   ]
  },
  {
   "cell_type": "code",
   "execution_count": 7,
   "metadata": {},
   "outputs": [
    {
     "data": {
      "text/plain": [
       "['hera@naver.com', 'gardenpro@daum.net', 'korea@korea.co.kr']"
      ]
     },
     "execution_count": 7,
     "metadata": {},
     "output_type": "execute_result"
    }
   ],
   "source": [
    "email"
   ]
  },
  {
   "cell_type": "code",
   "execution_count": 8,
   "metadata": {},
   "outputs": [
    {
     "data": {
      "text/plain": [
       "3"
      ]
     },
     "execution_count": 8,
     "metadata": {},
     "output_type": "execute_result"
    }
   ],
   "source": [
    "len(email)"
   ]
  },
  {
   "cell_type": "code",
   "execution_count": 11,
   "metadata": {},
   "outputs": [
    {
     "name": "stdout",
     "output_type": "stream",
     "text": [
      "hera@naver.com 닷컴회사이군요\n",
      "gardenpro@daum.net 닷넷회사이군요\n",
      "korea@korea.co.kr 한국에 있는 회사이군요\n"
     ]
    }
   ],
   "source": [
    "for e in email:\n",
    "    if(e.endswith(\".com\")):\n",
    "        print(e, \"닷컴회사이군요\")\n",
    "    elif(e.endswith(\".net\")):\n",
    "        print(e, \"닷넷회사이군요\")\n",
    "    elif(e.endswith(\".co.kr\")):\n",
    "        print(e, \"한국에 있는 회사이군요\")\n",
    "    else:\n",
    "        print(e,\"잘 모르겠네요\")\n",
    "        "
   ]
  }
 ],
 "metadata": {
  "kernelspec": {
   "display_name": "Python 3",
   "language": "python",
   "name": "python3"
  },
  "language_info": {
   "codemirror_mode": {
    "name": "ipython",
    "version": 3
   },
   "file_extension": ".py",
   "mimetype": "text/x-python",
   "name": "python",
   "nbconvert_exporter": "python",
   "pygments_lexer": "ipython3",
   "version": "3.7.0"
  }
 },
 "nbformat": 4,
 "nbformat_minor": 2
}
